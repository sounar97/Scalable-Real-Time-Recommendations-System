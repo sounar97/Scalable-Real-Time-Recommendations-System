{
 "cells": [
  {
   "cell_type": "code",
   "execution_count": 1,
   "metadata": {},
   "outputs": [],
   "source": [
    "import pandas as pd"
   ]
  },
  {
   "cell_type": "code",
   "execution_count": 2,
   "metadata": {},
   "outputs": [],
   "source": [
    "df = pd.read_csv('spotify_millsongdata.csv')"
   ]
  },
  {
   "cell_type": "code",
   "execution_count": 3,
   "metadata": {},
   "outputs": [
    {
     "data": {
      "text/html": [
       "<div>\n",
       "<style scoped>\n",
       "    .dataframe tbody tr th:only-of-type {\n",
       "        vertical-align: middle;\n",
       "    }\n",
       "\n",
       "    .dataframe tbody tr th {\n",
       "        vertical-align: top;\n",
       "    }\n",
       "\n",
       "    .dataframe thead th {\n",
       "        text-align: right;\n",
       "    }\n",
       "</style>\n",
       "<table border=\"1\" class=\"dataframe\">\n",
       "  <thead>\n",
       "    <tr style=\"text-align: right;\">\n",
       "      <th></th>\n",
       "      <th>artist</th>\n",
       "      <th>song</th>\n",
       "      <th>link</th>\n",
       "      <th>text</th>\n",
       "    </tr>\n",
       "  </thead>\n",
       "  <tbody>\n",
       "    <tr>\n",
       "      <th>0</th>\n",
       "      <td>ABBA</td>\n",
       "      <td>Ahe's My Kind Of Girl</td>\n",
       "      <td>/a/abba/ahes+my+kind+of+girl_20598417.html</td>\n",
       "      <td>Look at her face, it's a wonderful face  \\r\\nA...</td>\n",
       "    </tr>\n",
       "    <tr>\n",
       "      <th>1</th>\n",
       "      <td>ABBA</td>\n",
       "      <td>Andante, Andante</td>\n",
       "      <td>/a/abba/andante+andante_20002708.html</td>\n",
       "      <td>Take it easy with me, please  \\r\\nTouch me gen...</td>\n",
       "    </tr>\n",
       "    <tr>\n",
       "      <th>2</th>\n",
       "      <td>ABBA</td>\n",
       "      <td>As Good As New</td>\n",
       "      <td>/a/abba/as+good+as+new_20003033.html</td>\n",
       "      <td>I'll never know why I had to go  \\r\\nWhy I had...</td>\n",
       "    </tr>\n",
       "    <tr>\n",
       "      <th>3</th>\n",
       "      <td>ABBA</td>\n",
       "      <td>Bang</td>\n",
       "      <td>/a/abba/bang_20598415.html</td>\n",
       "      <td>Making somebody happy is a question of give an...</td>\n",
       "    </tr>\n",
       "    <tr>\n",
       "      <th>4</th>\n",
       "      <td>ABBA</td>\n",
       "      <td>Bang-A-Boomerang</td>\n",
       "      <td>/a/abba/bang+a+boomerang_20002668.html</td>\n",
       "      <td>Making somebody happy is a question of give an...</td>\n",
       "    </tr>\n",
       "  </tbody>\n",
       "</table>\n",
       "</div>"
      ],
      "text/plain": [
       "  artist                   song                                        link  \\\n",
       "0   ABBA  Ahe's My Kind Of Girl  /a/abba/ahes+my+kind+of+girl_20598417.html   \n",
       "1   ABBA       Andante, Andante       /a/abba/andante+andante_20002708.html   \n",
       "2   ABBA         As Good As New        /a/abba/as+good+as+new_20003033.html   \n",
       "3   ABBA                   Bang                  /a/abba/bang_20598415.html   \n",
       "4   ABBA       Bang-A-Boomerang      /a/abba/bang+a+boomerang_20002668.html   \n",
       "\n",
       "                                                text  \n",
       "0  Look at her face, it's a wonderful face  \\r\\nA...  \n",
       "1  Take it easy with me, please  \\r\\nTouch me gen...  \n",
       "2  I'll never know why I had to go  \\r\\nWhy I had...  \n",
       "3  Making somebody happy is a question of give an...  \n",
       "4  Making somebody happy is a question of give an...  "
      ]
     },
     "execution_count": 3,
     "metadata": {},
     "output_type": "execute_result"
    }
   ],
   "source": [
    "df.head(5)"
   ]
  },
  {
   "cell_type": "code",
   "execution_count": 4,
   "metadata": {},
   "outputs": [],
   "source": [
    "df.isnull().sum()\n",
    "df =df.sample(5000).drop('link', axis=1).reset_index(drop=True)"
   ]
  },
  {
   "cell_type": "code",
   "execution_count": 5,
   "metadata": {},
   "outputs": [
    {
     "data": {
      "text/plain": [
       "\"Down the side streets and the avenue  \\r\\nThere be sisters walkin' two by two  \\r\\nTheir dresses and their shoes are new  \\r\\nBut their hearts are weary through and through  \\r\\nAnd it's a long way into the light of the day  \\r\\nWhile the jukebox and the radio play  \\r\\n  \\r\\nWhere the days turn into the nights  \\r\\nPeople move into the sounds and sights  \\r\\nLike the moth is drawn into the lights  \\r\\nLike the tight-rope walker into the heights  \\r\\nIt's in their hearts, it's in their hips,  \\r\\nIt's in their feet, it's on their lips  \\r\\n  \\r\\nTonight's the night I'm gonna make you mine  \\r\\nGonna dance right out onto the edge of time  \\r\\nWhen the sound starts pumpin'  \\r\\nAnd the lights are flashin'  \\r\\nAnd my hearts-a-thumpin'  \\r\\nAnd I feel the passion  \\r\\nAnd the world is right there waiting  \\r\\nAt my finger tips  \\r\\nDisco... apocalypse  \\r\\n  \\r\\nIn the dawn the city seems to sigh  \\r\\nAnd the hungry hear their children cry  \\r\\nPeople watch the time go by  \\r\\nThey do their jobs and live and die  \\r\\nAnd in their dreams they rise above  \\r\\nBy strength, or hate, or luck, or love  \\r\\n  \\r\\nTonight's the night I'm gonna make you mine  \\r\\nGonna dance right out onto the edge of time  \\r\\nWhen the world starts turnin'  \\r\\nAnd the dreams are burnin'  \\r\\nAnd the skies awaken  \\r\\nThrough the wind and the fire  \\r\\nThey will be dancing still  \\r\\n  \\r\\nIt's in their hearts, it's in their hips,  \\r\\nIt's in their feet, it's on their lips  \\r\\nA single sound that never ends  \\r\\nThey die each night and live again  \\r\\n  \\r\\nI'm gonna make you mine  \\r\\nTonight's the night  \\r\\nOut on the edge of time  \\r\\nWith the dreams of flesh and love dancing in my mind  \\r\\nDancing through the fire on the edge of time\\r\\n\\r\\n\""
      ]
     },
     "execution_count": 5,
     "metadata": {},
     "output_type": "execute_result"
    }
   ],
   "source": [
    "df['text'][0]"
   ]
  },
  {
   "cell_type": "code",
   "execution_count": 6,
   "metadata": {},
   "outputs": [],
   "source": [
    "df['text'] = df['text'].str.lower().replace(r'^\\w\\s', ' ').replace(r'\\n', ' ', regex = True)"
   ]
  },
  {
   "cell_type": "code",
   "execution_count": 29,
   "metadata": {},
   "outputs": [],
   "source": [
    "import re\n",
    "\n",
    "def regex_tokenization(text):\n",
    "    # Split by non-word characters\n",
    "    tokens = re.findall(r'\\b\\w+\\b', text.lower())\n",
    "    return \" \".join(tokens)\n",
    "\n",
    "# Apply on your dataframe\n",
    "df['text'] = df['text'].apply(regex_tokenization)\n"
   ]
  },
  {
   "cell_type": "code",
   "execution_count": 21,
   "metadata": {},
   "outputs": [],
   "source": [
    "from sklearn.feature_extraction.text import TfidfVectorizer\n",
    "from sklearn.metrics.pairwise import cosine_similarity"
   ]
  },
  {
   "cell_type": "code",
   "execution_count": 22,
   "metadata": {},
   "outputs": [],
   "source": [
    "tfidvector = TfidfVectorizer(analyzer='word',stop_words='english')\n",
    "matrix = tfidvector.fit_transform(df['text'])\n",
    "similarity = cosine_similarity(matrix)"
   ]
  },
  {
   "cell_type": "code",
   "execution_count": 23,
   "metadata": {},
   "outputs": [
    {
     "data": {
      "text/plain": [
       "array([1.        , 0.04006198, 0.03068936, ..., 0.05563225, 0.03671798,\n",
       "       0.07532001])"
      ]
     },
     "execution_count": 23,
     "metadata": {},
     "output_type": "execute_result"
    }
   ],
   "source": [
    "similarity[0]"
   ]
  },
  {
   "cell_type": "code",
   "execution_count": 33,
   "metadata": {},
   "outputs": [
    {
     "name": "stdout",
     "output_type": "stream",
     "text": [
      "           artist                                song  \\\n",
      "0  Jackson Browne                    Disco Apocalypse   \n",
      "1   Elvis Presley                           By And By   \n",
      "2            UB40   Things Ain't Like They Used To Be   \n",
      "3     Dean Martin        By The Time I Get To Phoenix   \n",
      "4        Flo-Rida                               Never   \n",
      "5      Gary Numan                            Miracles   \n",
      "6         Ramones  Do You Remember Rock N Roll Radio?   \n",
      "7          Israel                 Jesus At The Center   \n",
      "8         Ramones                          My Sharona   \n",
      "9    Loretta Lynn            I Don't Wanna Play House   \n",
      "\n",
      "                                                text  \n",
      "0  down the side streets and the avenue there be ...  \n",
      "1  well children by and by when the morning comes...  \n",
      "2  chorus are you wondering why no one talks any ...  \n",
      "3  by the time i get to phoenix she ll be risin s...  \n",
      "4  never give up never hold you head down never f...  \n",
      "5  i don t believe in miracles i don t believe in...  \n",
      "6  this is rock n roll radio come on let s rock n...  \n",
      "7  jesus at the center of it all jesus at the cen...  \n",
      "8  originally by the knack oo my little pretty on...  \n",
      "9  today i sat alone at the window and i watched ...  \n"
     ]
    }
   ],
   "source": [
    "print(df.head(10))"
   ]
  },
  {
   "cell_type": "code",
   "execution_count": 34,
   "metadata": {},
   "outputs": [
    {
     "data": {
      "text/plain": [
       "3"
      ]
     },
     "execution_count": 34,
     "metadata": {},
     "output_type": "execute_result"
    }
   ],
   "source": [
    "df[df['song'] == 'By The Time I Get To Phoenix'].index[0]"
   ]
  },
  {
   "cell_type": "code",
   "execution_count": 35,
   "metadata": {},
   "outputs": [],
   "source": [
    "def recommendation(song_df):\n",
    "    idx = df[df['song'] == song_df].index[0]\n",
    "    distances = sorted(list(enumerate(similarity[idx])),reverse=True,key=lambda x:x[1])\n",
    "    \n",
    "    songs = []\n",
    "    for m_id in distances[1:21]:\n",
    "        songs.append(df.iloc[m_id[0]].song)\n",
    "        \n",
    "    return songs"
   ]
  },
  {
   "cell_type": "code",
   "execution_count": 36,
   "metadata": {},
   "outputs": [
    {
     "data": {
      "text/plain": [
       "['By The Time I Get To Phoenix',\n",
       " \"I'll Be There\",\n",
       " 'Give Me Time',\n",
       " '60 Miles An Hour',\n",
       " \"I'll Be There\",\n",
       " 'Jackson 5 Medley',\n",
       " \"I'll Be Back For More\",\n",
       " 'Promises',\n",
       " \"I'm Your Man\",\n",
       " \"I'm Your Man\",\n",
       " \"I'll Get By (As Long As I Have You)\",\n",
       " 'Elsewhere',\n",
       " \"I'll Fight For You\",\n",
       " \"You'll Think Of Me\",\n",
       " 'In Your Pocket',\n",
       " \"Lover's Will\",\n",
       " 'Maybe Tomorrow',\n",
       " 'Loved By You',\n",
       " \"I'll Have To Say I Love You In A Song\",\n",
       " 'One Day']"
      ]
     },
     "execution_count": 36,
     "metadata": {},
     "output_type": "execute_result"
    }
   ],
   "source": [
    "recommendation('By The Time I Get To Phoenix')"
   ]
  },
  {
   "cell_type": "code",
   "execution_count": 37,
   "metadata": {},
   "outputs": [],
   "source": [
    "import pickle\n",
    "pickle.dump(similarity,open('similarity.pkl','wb'))\n",
    "pickle.dump(df,open('df.pkl','wb'))"
   ]
  },
  {
   "cell_type": "code",
   "execution_count": 38,
   "metadata": {},
   "outputs": [
    {
     "data": {
      "text/html": [
       "<div>\n",
       "<style scoped>\n",
       "    .dataframe tbody tr th:only-of-type {\n",
       "        vertical-align: middle;\n",
       "    }\n",
       "\n",
       "    .dataframe tbody tr th {\n",
       "        vertical-align: top;\n",
       "    }\n",
       "\n",
       "    .dataframe thead th {\n",
       "        text-align: right;\n",
       "    }\n",
       "</style>\n",
       "<table border=\"1\" class=\"dataframe\">\n",
       "  <thead>\n",
       "    <tr style=\"text-align: right;\">\n",
       "      <th></th>\n",
       "      <th>artist</th>\n",
       "      <th>song</th>\n",
       "      <th>text</th>\n",
       "    </tr>\n",
       "  </thead>\n",
       "  <tbody>\n",
       "    <tr>\n",
       "      <th>0</th>\n",
       "      <td>Jackson Browne</td>\n",
       "      <td>Disco Apocalypse</td>\n",
       "      <td>down the side streets and the avenue there be ...</td>\n",
       "    </tr>\n",
       "    <tr>\n",
       "      <th>1</th>\n",
       "      <td>Elvis Presley</td>\n",
       "      <td>By And By</td>\n",
       "      <td>well children by and by when the morning comes...</td>\n",
       "    </tr>\n",
       "    <tr>\n",
       "      <th>2</th>\n",
       "      <td>UB40</td>\n",
       "      <td>Things Ain't Like They Used To Be</td>\n",
       "      <td>chorus are you wondering why no one talks any ...</td>\n",
       "    </tr>\n",
       "    <tr>\n",
       "      <th>3</th>\n",
       "      <td>Dean Martin</td>\n",
       "      <td>By The Time I Get To Phoenix</td>\n",
       "      <td>by the time i get to phoenix she ll be risin s...</td>\n",
       "    </tr>\n",
       "    <tr>\n",
       "      <th>4</th>\n",
       "      <td>Flo-Rida</td>\n",
       "      <td>Never</td>\n",
       "      <td>never give up never hold you head down never f...</td>\n",
       "    </tr>\n",
       "    <tr>\n",
       "      <th>...</th>\n",
       "      <td>...</td>\n",
       "      <td>...</td>\n",
       "      <td>...</td>\n",
       "    </tr>\n",
       "    <tr>\n",
       "      <th>4995</th>\n",
       "      <td>Reba Mcentire</td>\n",
       "      <td>I'll Still Be Loving You</td>\n",
       "      <td>changing my life with your love has been so ea...</td>\n",
       "    </tr>\n",
       "    <tr>\n",
       "      <th>4996</th>\n",
       "      <td>INXS</td>\n",
       "      <td>The Indian Song</td>\n",
       "      <td>and i was lost for words in your arms attempti...</td>\n",
       "    </tr>\n",
       "    <tr>\n",
       "      <th>4997</th>\n",
       "      <td>Erasure</td>\n",
       "      <td>Don't Say No</td>\n",
       "      <td>collecting conversation from the silence of th...</td>\n",
       "    </tr>\n",
       "    <tr>\n",
       "      <th>4998</th>\n",
       "      <td>Olivia Newton-John</td>\n",
       "      <td>Behind That Locked Door</td>\n",
       "      <td>harrison why are you still crying your pain is...</td>\n",
       "    </tr>\n",
       "    <tr>\n",
       "      <th>4999</th>\n",
       "      <td>Matt Monro</td>\n",
       "      <td>Somewhere</td>\n",
       "      <td>there s a place for us somewhere a place for u...</td>\n",
       "    </tr>\n",
       "  </tbody>\n",
       "</table>\n",
       "<p>5000 rows × 3 columns</p>\n",
       "</div>"
      ],
      "text/plain": [
       "                  artist                               song  \\\n",
       "0         Jackson Browne                   Disco Apocalypse   \n",
       "1          Elvis Presley                          By And By   \n",
       "2                   UB40  Things Ain't Like They Used To Be   \n",
       "3            Dean Martin       By The Time I Get To Phoenix   \n",
       "4               Flo-Rida                              Never   \n",
       "...                  ...                                ...   \n",
       "4995       Reba Mcentire           I'll Still Be Loving You   \n",
       "4996                INXS                    The Indian Song   \n",
       "4997             Erasure                       Don't Say No   \n",
       "4998  Olivia Newton-John            Behind That Locked Door   \n",
       "4999          Matt Monro                          Somewhere   \n",
       "\n",
       "                                                   text  \n",
       "0     down the side streets and the avenue there be ...  \n",
       "1     well children by and by when the morning comes...  \n",
       "2     chorus are you wondering why no one talks any ...  \n",
       "3     by the time i get to phoenix she ll be risin s...  \n",
       "4     never give up never hold you head down never f...  \n",
       "...                                                 ...  \n",
       "4995  changing my life with your love has been so ea...  \n",
       "4996  and i was lost for words in your arms attempti...  \n",
       "4997  collecting conversation from the silence of th...  \n",
       "4998  harrison why are you still crying your pain is...  \n",
       "4999  there s a place for us somewhere a place for u...  \n",
       "\n",
       "[5000 rows x 3 columns]"
      ]
     },
     "execution_count": 38,
     "metadata": {},
     "output_type": "execute_result"
    }
   ],
   "source": [
    "pickle.load(open('df.pkl', 'rb'))"
   ]
  }
 ],
 "metadata": {
  "kernelspec": {
   "display_name": "Python 3",
   "language": "python",
   "name": "python3"
  },
  "language_info": {
   "codemirror_mode": {
    "name": "ipython",
    "version": 3
   },
   "file_extension": ".py",
   "mimetype": "text/x-python",
   "name": "python",
   "nbconvert_exporter": "python",
   "pygments_lexer": "ipython3",
   "version": "3.10.2"
  }
 },
 "nbformat": 4,
 "nbformat_minor": 2
}
